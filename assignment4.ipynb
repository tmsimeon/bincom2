{
 "cells": [
  {
   "cell_type": "markdown",
   "id": "2386ea7b",
   "metadata": {},
   "source": [
    "1. Use regression models to predict housing prices on the Boston housing dataset (inbuilt with Sklearn)"
   ]
  },
  {
   "cell_type": "code",
   "execution_count": null,
   "id": "dc2c7cc8",
   "metadata": {},
   "outputs": [
    {
     "name": "stdout",
     "output_type": "stream",
     "text": [
      "      CRIM    ZN  INDUS  CHAS    NOX  ...  TAX  PTRATIO       B  LSTAT  MEDV\n",
      "0  0.00632  18.0   2.31   0.0  0.538  ...  296     15.3  396.90   4.98  24.0\n",
      "1  0.02731   0.0   7.07   0.0  0.469  ...  242     17.8  396.90   9.14  21.6\n",
      "2  0.02729   0.0   7.07   0.0  0.469  ...  242     17.8  392.83   4.03  34.7\n",
      "3  0.03237   0.0   2.18   0.0  0.458  ...  222     18.7  394.63   2.94  33.4\n",
      "4  0.06905   0.0   2.18   0.0  0.458  ...  222     18.7  396.90    NaN  36.2\n",
      "\n",
      "[5 rows x 14 columns]\n",
      "Index(['CRIM', 'ZN', 'INDUS', 'CHAS', 'NOX', 'RM', 'AGE', 'DIS', 'RAD', 'TAX',\n",
      "       'PTRATIO', 'B', 'LSTAT', 'MEDV'],\n",
      "      dtype='object')\n",
      "First 5 predictions        CRIM    ZN  INDUS  CHAS    NOX  ...  RAD  TAX  PTRATIO       B  LSTAT\n",
      "173  0.09178   0.0    NaN   0.0  0.510  ...    5  296     16.6  395.50   9.04\n",
      "274  0.05644  40.0   6.41   1.0  0.447  ...    4  254     17.6  396.90   3.53\n",
      "491  0.10574   0.0  27.74   0.0  0.609  ...    4  711     20.1  390.11  18.07\n",
      "72   0.09164   0.0  10.81   0.0  0.413  ...    4  305     19.2  390.91   5.52\n",
      "452  5.09017   0.0  18.10   0.0  0.713  ...   24  666     20.2  385.09  17.27\n",
      "\n",
      "[5 rows x 13 columns] : [25.  32.   8.1 25.  16.7]\n"
     ]
    }
   ],
   "source": [
    "from sklearn.datasets import load_iris\n",
    "from sklearn.model_selection import train_test_split\n",
    "from sklearn.ensemble import RandomForestClassifier\n",
    "from sklearn.tree import DecisionTreeClassifier\n",
    "from sklearn.tree import DecisionTreeRegressor\n",
    "from sklearn.metrics import accuracy_score\n",
    "import pandas as pd\n",
    "\n",
    "df = pd.read_csv(\"housingdata.csv\")\n",
    "print(df.head())\n",
    "print(df.columns)\n",
    "\n",
    "x = df.drop(\"MEDV\", axis=1)\n",
    "y = df[\"MEDV\"]\n",
    "\n",
    "x_train, x_test, y_train, y_test = train_test_split(x,y, test_size=0.2, random_state=42)\n",
    "\n",
    "# model = RandomForestClassifier()\n",
    "# model = DecisionTreeClassifier()\n",
    "model = DecisionTreeRegressor()\n",
    "model.fit(x_train, y_train)\n",
    "\n",
    "y_pred = model.predict(x_test)\n",
    "\n",
    "print(f\"First 5 predictions{x_test[:5]} :\", y_pred[:5])"
   ]
  }
 ],
 "metadata": {
  "kernelspec": {
   "display_name": "pyint_env",
   "language": "python",
   "name": "python3"
  },
  "language_info": {
   "codemirror_mode": {
    "name": "ipython",
    "version": 3
   },
   "file_extension": ".py",
   "mimetype": "text/x-python",
   "name": "python",
   "nbconvert_exporter": "python",
   "pygments_lexer": "ipython3",
   "version": "3.13.5"
  }
 },
 "nbformat": 4,
 "nbformat_minor": 5
}
