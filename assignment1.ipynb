{
 "cells": [
  {
   "cell_type": "markdown",
   "id": "0b253c81",
   "metadata": {},
   "source": [
    "load data and check the nature of the height and weight columns"
   ]
  },
  {
   "cell_type": "code",
   "execution_count": 47,
   "id": "c448481c",
   "metadata": {},
   "outputs": [
    {
     "name": "stderr",
     "output_type": "stream",
     "text": [
      "/tmp/ipykernel_1992/1864073130.py:8: DtypeWarning: Columns (76) have mixed types. Specify dtype option on import or set low_memory=False.\n",
      "  df = pd.read_csv(\"fifa21_raw_data.csv\")\n"
     ]
    }
   ],
   "source": [
    "import pandas as pd\n",
    "import re\n",
    "import matplotlib.pyplot as plt\n",
    "\n",
    "\n",
    "\n",
    "# Load your dataset (adjust filename if needed)\n",
    "df = pd.read_csv(\"fifa21_raw_data.csv\")\n",
    "\n",
    "# Print the first few rows of the DataFrame\n",
    "# print(df[['Height', 'Weight']].head(10))\n"
   ]
  },
  {
   "cell_type": "markdown",
   "id": "7e1ddb99",
   "metadata": {},
   "source": [
    "1. covert the heights to numerical values"
   ]
  },
  {
   "cell_type": "code",
   "execution_count": null,
   "id": "aa63c291",
   "metadata": {},
   "outputs": [],
   "source": [
    "\n",
    "def convert_height(h):\n",
    "    if pd.isna(h):\n",
    "        return None\n",
    "    h = str(h).strip().lower()\n",
    "    \n",
    "    if \"'\" in h:  # e.g. 5'7\n",
    "        parts = re.findall(r'\\d+', h)\n",
    "        if len(parts) == 2:\n",
    "            feet, inches = map(int, parts)\n",
    "            return round((feet * 30.48) + (inches * 2.54))\n",
    "    elif \"cm\" in h:  # e.g. 180cm\n",
    "        return int(re.sub(r'[^0-9]', '', h))\n",
    "    \n",
    "    return None\n",
    "\n",
    "df['Height_cm'] = df['Height'].apply(convert_height)\n",
    "print(df[['Height_cm']].head(10))\n"
   ]
  },
  {
   "cell_type": "markdown",
   "id": "a3ecfe95",
   "metadata": {},
   "source": [
    "1. convert the weight to numerical values"
   ]
  },
  {
   "cell_type": "code",
   "execution_count": 10,
   "id": "a5dc1863",
   "metadata": {},
   "outputs": [],
   "source": [
    "def convert_weight(w):\n",
    "    if pd.isna(w):\n",
    "        return None\n",
    "    w = str(w)\n",
    "    if \"lbs\" in w:\n",
    "        lbs = int(re.sub(r'lbs', '', w))\n",
    "        return round(lbs * 0.453592)  # convert to kg\n",
    "    elif \"kg\" in w:\n",
    "        return int(re.sub(r'kg', '', w))\n",
    "    else:\n",
    "        return None\n",
    "\n",
    "df['Weight_kg'] = df['Weight'].apply(convert_weight)\n"
   ]
  },
  {
   "cell_type": "markdown",
   "id": "381e2393",
   "metadata": {},
   "source": [
    "print to check the new results"
   ]
  },
  {
   "cell_type": "code",
   "execution_count": null,
   "id": "78290ae4",
   "metadata": {},
   "outputs": [],
   "source": [
    "print(df[['Height', 'Height_cm', 'Weight', 'Weight_kg']].head(15))"
   ]
  },
  {
   "cell_type": "markdown",
   "id": "9270728b",
   "metadata": {},
   "source": [
    "2. remove the unnecessary newline characters from all columns that have them."
   ]
  },
  {
   "cell_type": "code",
   "execution_count": null,
   "id": "4346be9d",
   "metadata": {},
   "outputs": [],
   "source": [
    "# Clean all string columns by replacing \\n and \\r\n",
    "df = df.map(lambda x: str(x).replace('\\n', ' ').replace('\\r', ' ') if isinstance(x, str) else x)\n",
    "df = df.map(lambda x: x.strip() if isinstance(x, str) else x)\n",
    "# Look for any remaining newline characters\n",
    "print(df.map(lambda x: '\\n' in str(x) or '\\r' in str(x)).any())\n"
   ]
  },
  {
   "cell_type": "markdown",
   "id": "1ced2ce0",
   "metadata": {},
   "source": [
    "3. Based on the joined colunn, check which players have been playing at a club for more than 10 years!"
   ]
  },
  {
   "cell_type": "code",
   "execution_count": null,
   "id": "ab61fd6a",
   "metadata": {},
   "outputs": [],
   "source": [
    "from datetime import datetime\n",
    "# Temporarily set display option\n",
    "# print(df.columns.tolist())\n",
    "print(df['Joined'].tolist())\n",
    "def years_in_team(y):\n",
    "    try:\n",
    "        # join_year = pd.to_datetime(y).year\n",
    "        # print()\n",
    "        return datetime.now().year - pd.to_datetime(y).year\n",
    "    except Exception as e:\n",
    "        print(e)\n",
    "        return \"invalid start date\"\n",
    "\n",
    "def up_to_ten_years(years):\n",
    "    try:\n",
    "        return int(years) >= 10\n",
    "    except:\n",
    "        return False\n",
    "\n",
    "df['Years_in_Team'] = df['Joined'].apply(years_in_team)\n",
    "df['Ten_Years_or_More'] = df['Years_in_Team'].apply(up_to_ten_years)\n",
    "print(df[['Joined', 'Years_in_Team', 'Ten_Years_or_More']].head(10))"
   ]
  },
  {
   "cell_type": "markdown",
   "id": "1f718965",
   "metadata": {},
   "source": [
    "4. Value', 'Wage' and \"Release Clause' are string columns. Convert them to numbers. For eg, \"M\" in value column is Million, so multiply the row values by 1,000,000, etc."
   ]
  },
  {
   "cell_type": "code",
   "execution_count": null,
   "id": "118f1c19",
   "metadata": {},
   "outputs": [],
   "source": [
    "print(df['Wage'].tolist())\n",
    "# df['Wage'] = df['Wage'].map(lambda x: str(x).replace('€', '').strip() if isinstance(x, str) else x)\n",
    "# print(df['Wage'].tolist())\n",
    "scale = {\n",
    "    'K': 1000,\n",
    "    'M': 1000000\n",
    "}\n",
    "def convert_value(v):\n",
    "    for key, value in scale.items():\n",
    "        if key in v:\n",
    "            v = v.replace('€', '').replace(key,'').strip()\n",
    "            # print(float(v) * value)\n",
    "            # print(int(float(v) * value))\n",
    "            return int(float(v) * value)\n",
    "            \n",
    "try:\n",
    "    df['Wage'] = df['Wage'].map(convert_value)\n",
    "    df['Value'] = df['Value'].map(convert_value)\n",
    "    df['Release Clause'] = df['Release Clause'].map(convert_value)\n",
    "except TypeError as e:\n",
    "    print(\"conversion already done\")\n",
    "# print(df[['Wage', 'Value']].head(10))\n"
   ]
  },
  {
   "cell_type": "markdown",
   "id": "ce29b128",
   "metadata": {},
   "source": [
    "5. Some columns have 'star' characters. Strip those columns of these stars and make the columns numerical"
   ]
  },
  {
   "cell_type": "code",
   "execution_count": 44,
   "id": "97e72f3c",
   "metadata": {},
   "outputs": [],
   "source": [
    "# print(df['SM'])\n",
    "# df['SM'] = df['SM'].map(lambda x: x.replace('★', '') if isinstance(x, str) else x)\n",
    "df['SM'] = df['SM'].map(lambda x: x.replace('★', '') if isinstance(x, str) else x)\n",
    "df['W/F'] = df['W/F'].map(lambda x: x.replace('★', '') if isinstance(x, str) else x)\n",
    "df['IR'] = df['IR'].map(lambda x: x.replace('★', '') if isinstance(x, str) else x)\n",
    "\n",
    "\n",
    "\n",
    "# print(df['SM'])\n",
    "\n",
    "# df = df.apply(pd.to_numeric, errors='coerce')"
   ]
  },
  {
   "cell_type": "markdown",
   "id": "b335a307",
   "metadata": {},
   "source": [
    "6. Which players are highly valuable but still underpaid (on low wages)? (hint: scatter plot between wage and value)"
   ]
  },
  {
   "cell_type": "code",
   "execution_count": null,
   "id": "6d23714d",
   "metadata": {},
   "outputs": [],
   "source": [
    "x = df['Value'].apply(lambda v: float(str(v).replace('M', '').replace('€', '').replace('K', '')) if pd.notna(v) else 0)\n",
    "# y = df['Wage'].apply(lambda w: int(str(w).replace('K', '').replace('€', '')) if pd.notna(w) else 0)\n",
    "y = df['Wage'].apply(lambda w: int(str(w).replace('K', '').replace('€', '')) if pd.notna(w) else 0)\n",
    "\n",
    "# plt.scatter(x, y)\n",
    "# plt.xlabel('Value')\n",
    "# plt.ylabel('Wage')\n",
    "# plt.title('Scatter Plot of Player Value vs Wage')\n",
    "# plt.show()\n",
    "\n",
    "df['ratio'] = x / y\n",
    "df_underpaid = df.nlargest(50, 'ratio')\n",
    "print(df_underpaid[['Name', 'Value', 'Wage', 'ratio']])"
   ]
  }
 ],
 "metadata": {
  "kernelspec": {
   "display_name": "pyint_env",
   "language": "python",
   "name": "python3"
  },
  "language_info": {
   "codemirror_mode": {
    "name": "ipython",
    "version": 3
   },
   "file_extension": ".py",
   "mimetype": "text/x-python",
   "name": "python",
   "nbconvert_exporter": "python",
   "pygments_lexer": "ipython3",
   "version": "3.13.5"
  }
 },
 "nbformat": 4,
 "nbformat_minor": 5
}
